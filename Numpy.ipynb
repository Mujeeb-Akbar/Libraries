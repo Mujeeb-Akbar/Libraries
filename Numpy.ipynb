{
 "cells": [
  {
   "cell_type": "code",
   "execution_count": 1,
   "id": "e6a70cbe",
   "metadata": {},
   "outputs": [],
   "source": [
    "import numpy as np"
   ]
  },
  {
   "cell_type": "code",
   "execution_count": 5,
   "id": "5192a866",
   "metadata": {},
   "outputs": [
    {
     "data": {
      "text/plain": [
       "array([10, 12, 14, 16, 18])"
      ]
     },
     "execution_count": 5,
     "metadata": {},
     "output_type": "execute_result"
    }
   ],
   "source": [
    "arr1 = np.arange(10 , 20 , 2)\n",
    "arr1"
   ]
  },
  {
   "cell_type": "code",
   "execution_count": 16,
   "id": "92352458",
   "metadata": {},
   "outputs": [
    {
     "data": {
      "text/plain": [
       "1"
      ]
     },
     "execution_count": 16,
     "metadata": {},
     "output_type": "execute_result"
    }
   ],
   "source": [
    "arr1.ndim"
   ]
  },
  {
   "cell_type": "code",
   "execution_count": 32,
   "id": "0dcadaaf",
   "metadata": {},
   "outputs": [
    {
     "data": {
      "text/plain": [
       "array([[ 1,  2,  3,  4,  5],\n",
       "       [ 6,  7,  8,  9, 10],\n",
       "       [11, 12, 13, 14, 15],\n",
       "       [16, 17, 18, 19, 20]])"
      ]
     },
     "execution_count": 32,
     "metadata": {},
     "output_type": "execute_result"
    }
   ],
   "source": [
    "arr2 = np.array([[1,2,3,4,5], [6,7,8,9,10],[11,12,13,14,15],[16,17,18,19,20]])\n",
    "arr2"
   ]
  },
  {
   "cell_type": "code",
   "execution_count": 15,
   "id": "e99d4720",
   "metadata": {},
   "outputs": [
    {
     "data": {
      "text/plain": [
       "2"
      ]
     },
     "execution_count": 15,
     "metadata": {},
     "output_type": "execute_result"
    }
   ],
   "source": [
    "arr2.ndim"
   ]
  },
  {
   "cell_type": "code",
   "execution_count": 13,
   "id": "868bf1e6",
   "metadata": {},
   "outputs": [
    {
     "data": {
      "text/plain": [
       "array([[[1, 2, 3],\n",
       "        [4, 5, 6],\n",
       "        [7, 8, 9]],\n",
       "\n",
       "       [[9, 8, 7],\n",
       "        [6, 5, 4],\n",
       "        [3, 2, 1]]])"
      ]
     },
     "execution_count": 13,
     "metadata": {},
     "output_type": "execute_result"
    }
   ],
   "source": [
    "arr3 = np.array([[[1,2,3],[4,5,6],[7,8,9]],[[9,8,7],[6,5,4],[3,2,1]]])\n",
    "arr3"
   ]
  },
  {
   "cell_type": "code",
   "execution_count": 14,
   "id": "cd2da2be",
   "metadata": {},
   "outputs": [
    {
     "data": {
      "text/plain": [
       "3"
      ]
     },
     "execution_count": 14,
     "metadata": {},
     "output_type": "execute_result"
    }
   ],
   "source": [
    "arr3.ndim"
   ]
  },
  {
   "cell_type": "code",
   "execution_count": 18,
   "id": "63894bbd",
   "metadata": {},
   "outputs": [
    {
     "data": {
      "text/plain": [
       "array([[1., 1., 1., 1., 1.],\n",
       "       [1., 1., 1., 1., 1.],\n",
       "       [1., 1., 1., 1., 1.],\n",
       "       [1., 1., 1., 1., 1.],\n",
       "       [1., 1., 1., 1., 1.]])"
      ]
     },
     "execution_count": 18,
     "metadata": {},
     "output_type": "execute_result"
    }
   ],
   "source": [
    "arr4 = np.ones((5,5))\n",
    "arr4"
   ]
  },
  {
   "cell_type": "markdown",
   "id": "bd87b8b9",
   "metadata": {},
   "source": [
    "# - Just like that one you create a zeros array"
   ]
  },
  {
   "cell_type": "code",
   "execution_count": 17,
   "id": "579d3b97",
   "metadata": {},
   "outputs": [
    {
     "data": {
      "text/plain": [
       "array([[[0., 0., 0., 0., 0.],\n",
       "        [0., 0., 0., 0., 0.],\n",
       "        [0., 0., 0., 0., 0.],\n",
       "        [0., 0., 0., 0., 0.],\n",
       "        [0., 0., 0., 0., 0.]],\n",
       "\n",
       "       [[0., 0., 0., 0., 0.],\n",
       "        [0., 0., 0., 0., 0.],\n",
       "        [0., 0., 0., 0., 0.],\n",
       "        [0., 0., 0., 0., 0.],\n",
       "        [0., 0., 0., 0., 0.]],\n",
       "\n",
       "       [[0., 0., 0., 0., 0.],\n",
       "        [0., 0., 0., 0., 0.],\n",
       "        [0., 0., 0., 0., 0.],\n",
       "        [0., 0., 0., 0., 0.],\n",
       "        [0., 0., 0., 0., 0.]],\n",
       "\n",
       "       [[0., 0., 0., 0., 0.],\n",
       "        [0., 0., 0., 0., 0.],\n",
       "        [0., 0., 0., 0., 0.],\n",
       "        [0., 0., 0., 0., 0.],\n",
       "        [0., 0., 0., 0., 0.]],\n",
       "\n",
       "       [[0., 0., 0., 0., 0.],\n",
       "        [0., 0., 0., 0., 0.],\n",
       "        [0., 0., 0., 0., 0.],\n",
       "        [0., 0., 0., 0., 0.],\n",
       "        [0., 0., 0., 0., 0.]]])"
      ]
     },
     "execution_count": 17,
     "metadata": {},
     "output_type": "execute_result"
    }
   ],
   "source": [
    "arr5 = np.zeros((5,5,5))\n",
    "arr5"
   ]
  },
  {
   "cell_type": "code",
   "execution_count": 30,
   "id": "6b8bc3a7",
   "metadata": {},
   "outputs": [
    {
     "data": {
      "text/plain": [
       "3"
      ]
     },
     "execution_count": 30,
     "metadata": {},
     "output_type": "execute_result"
    }
   ],
   "source": [
    "arr5.ndim"
   ]
  },
  {
   "cell_type": "code",
   "execution_count": 16,
   "id": "d35b38e5",
   "metadata": {},
   "outputs": [
    {
     "ename": "NameError",
     "evalue": "name 'arr5' is not defined",
     "output_type": "error",
     "traceback": [
      "\u001b[1;31m---------------------------------------------------------------------------\u001b[0m",
      "\u001b[1;31mNameError\u001b[0m                                 Traceback (most recent call last)",
      "Cell \u001b[1;32mIn[16], line 2\u001b[0m\n\u001b[0;32m      1\u001b[0m \u001b[38;5;66;03m# you can also copy it\u001b[39;00m\n\u001b[1;32m----> 2\u001b[0m arr6 \u001b[38;5;241m=\u001b[39m np\u001b[38;5;241m.\u001b[39mcopy(arr5)\n\u001b[0;32m      3\u001b[0m arr6\n",
      "\u001b[1;31mNameError\u001b[0m: name 'arr5' is not defined"
     ]
    }
   ],
   "source": [
    "# you can also copy it\n",
    "arr6 = np.copy(arr5)\n",
    "arr6"
   ]
  },
  {
   "cell_type": "markdown",
   "id": "444d06c4",
   "metadata": {},
   "source": [
    "# - np.linspace: by this you can create an array of one specific number to another nut there will be the same length between two values like the space values between first two will be equal to the 4th and 5th"
   ]
  },
  {
   "cell_type": "code",
   "execution_count": 36,
   "id": "7fc0ec1e",
   "metadata": {},
   "outputs": [
    {
     "data": {
      "text/plain": [
       "array([10.        , 10.20408163, 10.40816327, 10.6122449 , 10.81632653,\n",
       "       11.02040816, 11.2244898 , 11.42857143, 11.63265306, 11.83673469,\n",
       "       12.04081633, 12.24489796, 12.44897959, 12.65306122, 12.85714286,\n",
       "       13.06122449, 13.26530612, 13.46938776, 13.67346939, 13.87755102,\n",
       "       14.08163265, 14.28571429, 14.48979592, 14.69387755, 14.89795918,\n",
       "       15.10204082, 15.30612245, 15.51020408, 15.71428571, 15.91836735,\n",
       "       16.12244898, 16.32653061, 16.53061224, 16.73469388, 16.93877551,\n",
       "       17.14285714, 17.34693878, 17.55102041, 17.75510204, 17.95918367,\n",
       "       18.16326531, 18.36734694, 18.57142857, 18.7755102 , 18.97959184,\n",
       "       19.18367347, 19.3877551 , 19.59183673, 19.79591837, 20.        ])"
      ]
     },
     "execution_count": 36,
     "metadata": {},
     "output_type": "execute_result"
    }
   ],
   "source": [
    "arr7 = np.linspace(10,20)\n",
    "arr7"
   ]
  },
  {
   "cell_type": "code",
   "execution_count": 41,
   "id": "6c439e2d",
   "metadata": {},
   "outputs": [
    {
     "data": {
      "text/plain": [
       "array([12., 15., 18., 21., 24.])"
      ]
     },
     "execution_count": 41,
     "metadata": {},
     "output_type": "execute_result"
    }
   ],
   "source": [
    "# The 3rd perameter means that print for me the 5 values and there should be the same space between two values\n",
    "arr8 = np.linspace(12,24,5)\n",
    "arr8"
   ]
  },
  {
   "cell_type": "code",
   "execution_count": 48,
   "id": "9d1a69ad",
   "metadata": {},
   "outputs": [
    {
     "data": {
      "text/plain": [
       "(5, 5, 5)"
      ]
     },
     "execution_count": 48,
     "metadata": {},
     "output_type": "execute_result"
    }
   ],
   "source": [
    "arr9 = arr5.shape\n",
    "arr9"
   ]
  },
  {
   "cell_type": "code",
   "execution_count": 52,
   "id": "3d3f04fd",
   "metadata": {},
   "outputs": [
    {
     "data": {
      "text/plain": [
       "(5, 5, 5)"
      ]
     },
     "execution_count": 52,
     "metadata": {},
     "output_type": "execute_result"
    }
   ],
   "source": [
    "arr6.shape"
   ]
  },
  {
   "cell_type": "code",
   "execution_count": 54,
   "id": "91d8b912",
   "metadata": {},
   "outputs": [
    {
     "data": {
      "text/plain": [
       "125"
      ]
     },
     "execution_count": 54,
     "metadata": {},
     "output_type": "execute_result"
    }
   ],
   "source": [
    "# It will show that how many items are there in a numpy\n",
    "arr6.size"
   ]
  },
  {
   "cell_type": "code",
   "execution_count": 55,
   "id": "0cdcb096",
   "metadata": {},
   "outputs": [
    {
     "data": {
      "text/plain": [
       "8"
      ]
     },
     "execution_count": 55,
     "metadata": {},
     "output_type": "execute_result"
    }
   ],
   "source": [
    "# It will show the size of item in memory (For int it is 4 and for float it is 8)\n",
    "arr6.itemsize"
   ]
  },
  {
   "cell_type": "code",
   "execution_count": 58,
   "id": "7294a0d2",
   "metadata": {},
   "outputs": [
    {
     "data": {
      "text/plain": [
       "3"
      ]
     },
     "execution_count": 58,
     "metadata": {},
     "output_type": "execute_result"
    }
   ],
   "source": [
    "# It will show the dimentions of an array\n",
    "arr6.ndim"
   ]
  },
  {
   "cell_type": "markdown",
   "id": "cec39d20",
   "metadata": {},
   "source": [
    "# - You can convert the array from one datatype to another (using astype function)"
   ]
  },
  {
   "cell_type": "code",
   "execution_count": 15,
   "id": "a26d2b2f",
   "metadata": {},
   "outputs": [
    {
     "ename": "NameError",
     "evalue": "name 'arr6' is not defined",
     "output_type": "error",
     "traceback": [
      "\u001b[1;31m---------------------------------------------------------------------------\u001b[0m",
      "\u001b[1;31mNameError\u001b[0m                                 Traceback (most recent call last)",
      "Cell \u001b[1;32mIn[15], line 2\u001b[0m\n\u001b[0;32m      1\u001b[0m \u001b[38;5;66;03m# arr6 is in float and we will convert it to int\u001b[39;00m\n\u001b[1;32m----> 2\u001b[0m arr6\u001b[38;5;241m.\u001b[39mastype(\u001b[38;5;124m'\u001b[39m\u001b[38;5;124mint\u001b[39m\u001b[38;5;124m'\u001b[39m)\n",
      "\u001b[1;31mNameError\u001b[0m: name 'arr6' is not defined"
     ]
    }
   ],
   "source": [
    "# arr6 is in float and we will convert it to int\n",
    "arr6.astype('int')\n",
    "# Now arr6 is in int"
   ]
  },
  {
   "cell_type": "markdown",
   "id": "0c37b37b",
   "metadata": {},
   "source": [
    "# - list vs array\n",
    "## - faster\n",
    "## - convenient\n",
    "## - less memory"
   ]
  },
  {
   "cell_type": "code",
   "execution_count": 62,
   "id": "961099ec",
   "metadata": {},
   "outputs": [],
   "source": [
    "import time"
   ]
  },
  {
   "cell_type": "code",
   "execution_count": 73,
   "id": "0db9a61f",
   "metadata": {},
   "outputs": [
    {
     "name": "stdout",
     "output_type": "stream",
     "text": [
      "5.30470871925354\n"
     ]
    }
   ],
   "source": [
    "# I calculated the time taken by list\n",
    "x = range(10000000)\n",
    "y = range(10000000 , 20000000)\n",
    "\n",
    "start_time = time.time()\n",
    "z = [(x,y) for x,y in zip(x,y)]\n",
    "\n",
    "print(time.time() - start_time)"
   ]
  },
  {
   "cell_type": "code",
   "execution_count": 72,
   "id": "da24ca84",
   "metadata": {},
   "outputs": [
    {
     "name": "stdout",
     "output_type": "stream",
     "text": [
      "0.03196525573730469\n"
     ]
    }
   ],
   "source": [
    "# Now the time taken by numpy\n",
    "a = np.arange(10000000)\n",
    "b = np.arange(10000000 , 20000000)\n",
    "\n",
    "start_time = time.time()\n",
    "c = a + b\n",
    "\n",
    "print(time.time() - start_time)"
   ]
  },
  {
   "cell_type": "markdown",
   "id": "3f5d5cea",
   "metadata": {},
   "source": [
    "## - Now look at the time taken by both. means that numpy is much faster then list"
   ]
  },
  {
   "cell_type": "code",
   "execution_count": null,
   "id": "40aac4f5",
   "metadata": {},
   "outputs": [],
   "source": []
  },
  {
   "cell_type": "code",
   "execution_count": 3,
   "id": "a162f6ff",
   "metadata": {},
   "outputs": [],
   "source": [
    "import sys"
   ]
  },
  {
   "cell_type": "code",
   "execution_count": 11,
   "id": "b64f605e",
   "metadata": {},
   "outputs": [
    {
     "data": {
      "text/plain": [
       "array([ 0,  1,  2,  3,  4,  5,  6,  7,  8,  9, 10, 11, 12, 13, 14, 15, 16,\n",
       "       17, 18, 19, 20, 21, 22, 23, 24, 25, 26, 27, 28, 29, 30, 31, 32, 33,\n",
       "       34, 35, 36, 37, 38, 39, 40, 41, 42, 43, 44, 45, 46, 47, 48, 49, 50,\n",
       "       51, 52, 53, 54, 55, 56, 57, 58, 59, 60, 61, 62, 63, 64, 65, 66, 67,\n",
       "       68, 69, 70, 71, 72, 73, 74, 75, 76, 77, 78, 79, 80, 81, 82, 83, 84,\n",
       "       85, 86, 87, 88, 89, 90, 91, 92, 93, 94, 95, 96, 97, 98, 99])"
      ]
     },
     "execution_count": 11,
     "metadata": {},
     "output_type": "execute_result"
    }
   ],
   "source": [
    "list_a = range(100)\n",
    "arr_a = np.arange(100)\n",
    "\n",
    "list_a\n",
    "arr_a"
   ]
  },
  {
   "cell_type": "code",
   "execution_count": 12,
   "id": "cbc93d35",
   "metadata": {},
   "outputs": [
    {
     "name": "stdout",
     "output_type": "stream",
     "text": [
      "2800\n"
     ]
    }
   ],
   "source": [
    "print(sys.getsizeof(87)*len(list_a))"
   ]
  },
  {
   "cell_type": "code",
   "execution_count": 13,
   "id": "720cdd40",
   "metadata": {},
   "outputs": [
    {
     "name": "stdout",
     "output_type": "stream",
     "text": [
      "400\n"
     ]
    }
   ],
   "source": [
    "print(arr_a.itemsize * arr_a.size)"
   ]
  },
  {
   "cell_type": "markdown",
   "id": "7eb1a03b",
   "metadata": {},
   "source": [
    "## - And you can clearly see above that the list occopied 2800 bytes and the numpy occopied 400 bytes "
   ]
  },
  {
   "cell_type": "code",
   "execution_count": null,
   "id": "76b5ede5",
   "metadata": {},
   "outputs": [],
   "source": []
  },
  {
   "cell_type": "markdown",
   "id": "d1ee3d74",
   "metadata": {},
   "source": [
    "# - You can also do indexing and iteration in numpy\n",
    "## - for iteration there is a builtin function in numpy called (nditer)"
   ]
  },
  {
   "cell_type": "code",
   "execution_count": 27,
   "id": "b8a23cfc",
   "metadata": {},
   "outputs": [
    {
     "data": {
      "text/plain": [
       "array([1, 2, 3, 4, 5, 6, 7, 8, 9])"
      ]
     },
     "execution_count": 27,
     "metadata": {},
     "output_type": "execute_result"
    }
   ],
   "source": [
    "arr12 = np.array([1,2,3,4,5,6,7,8,9])\n",
    "arr12"
   ]
  },
  {
   "cell_type": "code",
   "execution_count": 28,
   "id": "ac803f15",
   "metadata": {},
   "outputs": [
    {
     "data": {
      "text/plain": [
       "3"
      ]
     },
     "execution_count": 28,
     "metadata": {},
     "output_type": "execute_result"
    }
   ],
   "source": [
    "# by indexing\n",
    "arr12[2]"
   ]
  },
  {
   "cell_type": "code",
   "execution_count": 33,
   "id": "7f6170ea",
   "metadata": {},
   "outputs": [
    {
     "data": {
      "text/plain": [
       "array([[ 1,  2,  3,  4,  5],\n",
       "       [ 6,  7,  8,  9, 10],\n",
       "       [11, 12, 13, 14, 15],\n",
       "       [16, 17, 18, 19, 20]])"
      ]
     },
     "execution_count": 33,
     "metadata": {},
     "output_type": "execute_result"
    }
   ],
   "source": [
    "arr2"
   ]
  },
  {
   "cell_type": "code",
   "execution_count": 34,
   "id": "eefc054c",
   "metadata": {},
   "outputs": [
    {
     "data": {
      "text/plain": [
       "array([ 6,  7,  8,  9, 10])"
      ]
     },
     "execution_count": 34,
     "metadata": {},
     "output_type": "execute_result"
    }
   ],
   "source": [
    "arr2[1]\n",
    "# means that it will print the 2nd row"
   ]
  },
  {
   "cell_type": "code",
   "execution_count": 35,
   "id": "0ce97131",
   "metadata": {},
   "outputs": [
    {
     "data": {
      "text/plain": [
       "array([[ 6,  7,  8,  9, 10],\n",
       "       [11, 12, 13, 14, 15]])"
      ]
     },
     "execution_count": 35,
     "metadata": {},
     "output_type": "execute_result"
    }
   ],
   "source": [
    "arr2[1:3]"
   ]
  },
  {
   "cell_type": "code",
   "execution_count": 37,
   "id": "111c38f6",
   "metadata": {},
   "outputs": [
    {
     "data": {
      "text/plain": [
       "array([ 3,  8, 13, 18])"
      ]
     },
     "execution_count": 37,
     "metadata": {},
     "output_type": "execute_result"
    }
   ],
   "source": [
    "arr2[: , 2]\n",
    "# by that way you can print the row like I did the 3rd one"
   ]
  },
  {
   "cell_type": "code",
   "execution_count": 38,
   "id": "a542b94d",
   "metadata": {},
   "outputs": [
    {
     "data": {
      "text/plain": [
       "13"
      ]
     },
     "execution_count": 38,
     "metadata": {},
     "output_type": "execute_result"
    }
   ],
   "source": [
    "# let print 13\n",
    "arr2[2 , 2]"
   ]
  },
  {
   "cell_type": "code",
   "execution_count": 39,
   "id": "31dd992b",
   "metadata": {},
   "outputs": [
    {
     "data": {
      "text/plain": [
       "array([13, 14])"
      ]
     },
     "execution_count": 39,
     "metadata": {},
     "output_type": "execute_result"
    }
   ],
   "source": [
    "# Lets print 13 and 14\n",
    "arr2[2 , 2:4]"
   ]
  },
  {
   "cell_type": "markdown",
   "id": "672d51c4",
   "metadata": {},
   "source": [
    "## - Iteration"
   ]
  },
  {
   "cell_type": "code",
   "execution_count": 41,
   "id": "0612fb20",
   "metadata": {},
   "outputs": [
    {
     "name": "stdout",
     "output_type": "stream",
     "text": [
      "[1 2 3 4 5]\n",
      "[ 6  7  8  9 10]\n",
      "[11 12 13 14 15]\n",
      "[16 17 18 19 20]\n"
     ]
    }
   ],
   "source": [
    "for i in arr2:\n",
    "    print(i)\n",
    "# it prints it in rows form"
   ]
  },
  {
   "cell_type": "markdown",
   "id": "3a191c3e",
   "metadata": {},
   "source": [
    "## - Now iteration with builtin function (nditer)"
   ]
  },
  {
   "cell_type": "code",
   "execution_count": 42,
   "id": "7f6729de",
   "metadata": {},
   "outputs": [
    {
     "name": "stdout",
     "output_type": "stream",
     "text": [
      "1\n",
      "2\n",
      "3\n",
      "4\n",
      "5\n",
      "6\n",
      "7\n",
      "8\n",
      "9\n",
      "10\n",
      "11\n",
      "12\n",
      "13\n",
      "14\n",
      "15\n",
      "16\n",
      "17\n",
      "18\n",
      "19\n",
      "20\n"
     ]
    }
   ],
   "source": [
    "for i in np.nditer(arr2):\n",
    "    print(i)"
   ]
  },
  {
   "cell_type": "code",
   "execution_count": null,
   "id": "02865fd2",
   "metadata": {},
   "outputs": [],
   "source": []
  },
  {
   "cell_type": "markdown",
   "id": "d62e21de",
   "metadata": {},
   "source": [
    "# - You can also do mathemathical operators on numpy array\n",
    "## - (-,*,+,/,<,>,) and more all like it"
   ]
  },
  {
   "cell_type": "code",
   "execution_count": 48,
   "id": "6acd8cea",
   "metadata": {},
   "outputs": [],
   "source": [
    "arr1 = np.arange(6).reshape(2,3)\n",
    "arr2 = np.arange(6,12).reshape(2,3)"
   ]
  },
  {
   "cell_type": "code",
   "execution_count": 49,
   "id": "48ce159f",
   "metadata": {},
   "outputs": [
    {
     "data": {
      "text/plain": [
       "array([[ 6,  8, 10],\n",
       "       [12, 14, 16]])"
      ]
     },
     "execution_count": 49,
     "metadata": {},
     "output_type": "execute_result"
    }
   ],
   "source": [
    "arr1+arr2"
   ]
  },
  {
   "cell_type": "code",
   "execution_count": 55,
   "id": "3f677289",
   "metadata": {},
   "outputs": [],
   "source": [
    "arr = np.array([1,2,3,4,5])\n",
    "aar = np.array([6,7,8,9,10])"
   ]
  },
  {
   "cell_type": "code",
   "execution_count": 56,
   "id": "fbccfc70",
   "metadata": {},
   "outputs": [
    {
     "data": {
      "text/plain": [
       "array([ 7,  9, 11, 13, 15])"
      ]
     },
     "execution_count": 56,
     "metadata": {},
     "output_type": "execute_result"
    }
   ],
   "source": [
    "arr + aar"
   ]
  },
  {
   "cell_type": "code",
   "execution_count": 57,
   "id": "890b84d3",
   "metadata": {},
   "outputs": [
    {
     "data": {
      "text/plain": [
       "array([-5, -5, -5, -5, -5])"
      ]
     },
     "execution_count": 57,
     "metadata": {},
     "output_type": "execute_result"
    }
   ],
   "source": [
    "arr - aar"
   ]
  },
  {
   "cell_type": "code",
   "execution_count": 58,
   "id": "20648d6d",
   "metadata": {},
   "outputs": [
    {
     "data": {
      "text/plain": [
       "array([ 6, 14, 24, 36, 50])"
      ]
     },
     "execution_count": 58,
     "metadata": {},
     "output_type": "execute_result"
    }
   ],
   "source": [
    "arr * aar"
   ]
  },
  {
   "cell_type": "code",
   "execution_count": 59,
   "id": "07e1b9b7",
   "metadata": {},
   "outputs": [
    {
     "data": {
      "text/plain": [
       "array([0.16666667, 0.28571429, 0.375     , 0.44444444, 0.5       ])"
      ]
     },
     "execution_count": 59,
     "metadata": {},
     "output_type": "execute_result"
    }
   ],
   "source": [
    "arr / aar"
   ]
  },
  {
   "cell_type": "code",
   "execution_count": 60,
   "id": "f2d14d72",
   "metadata": {},
   "outputs": [
    {
     "data": {
      "text/plain": [
       "array([[0, 1, 2],\n",
       "       [3, 4, 5]])"
      ]
     },
     "execution_count": 60,
     "metadata": {},
     "output_type": "execute_result"
    }
   ],
   "source": [
    "arr1"
   ]
  },
  {
   "cell_type": "code",
   "execution_count": 61,
   "id": "afdf0abe",
   "metadata": {},
   "outputs": [
    {
     "data": {
      "text/plain": [
       "array([[ 6,  7],\n",
       "       [ 8,  9],\n",
       "       [10, 11]])"
      ]
     },
     "execution_count": 61,
     "metadata": {},
     "output_type": "execute_result"
    }
   ],
   "source": [
    "arr2"
   ]
  },
  {
   "cell_type": "code",
   "execution_count": 62,
   "id": "247cfa07",
   "metadata": {},
   "outputs": [
    {
     "data": {
      "text/plain": [
       "11"
      ]
     },
     "execution_count": 62,
     "metadata": {},
     "output_type": "execute_result"
    }
   ],
   "source": [
    "arr2.max()"
   ]
  },
  {
   "cell_type": "code",
   "execution_count": 63,
   "id": "59cf1bb5",
   "metadata": {},
   "outputs": [
    {
     "data": {
      "text/plain": [
       "6"
      ]
     },
     "execution_count": 63,
     "metadata": {},
     "output_type": "execute_result"
    }
   ],
   "source": [
    "arr2.min()"
   ]
  },
  {
   "cell_type": "code",
   "execution_count": 66,
   "id": "5b4a88b5",
   "metadata": {},
   "outputs": [
    {
     "data": {
      "text/plain": [
       "array([10, 11])"
      ]
     },
     "execution_count": 66,
     "metadata": {},
     "output_type": "execute_result"
    }
   ],
   "source": [
    "# It will print the maximum value in each column because we know that 0 means column\n",
    "arr2.max(0)"
   ]
  },
  {
   "cell_type": "code",
   "execution_count": 68,
   "id": "71fa629d",
   "metadata": {},
   "outputs": [
    {
     "data": {
      "text/plain": [
       "array([ 7,  9, 11])"
      ]
     },
     "execution_count": 68,
     "metadata": {},
     "output_type": "execute_result"
    }
   ],
   "source": [
    "# It will print the maximum value in each row because we know that 1 means row\n",
    "arr2.max(1)"
   ]
  },
  {
   "cell_type": "code",
   "execution_count": 70,
   "id": "0d1889de",
   "metadata": {},
   "outputs": [
    {
     "data": {
      "text/plain": [
       "array([False, False, False,  True,  True])"
      ]
     },
     "execution_count": 70,
     "metadata": {},
     "output_type": "execute_result"
    }
   ],
   "source": [
    "arr > 3"
   ]
  },
  {
   "cell_type": "code",
   "execution_count": 71,
   "id": "4094b164",
   "metadata": {},
   "outputs": [
    {
     "data": {
      "text/plain": [
       "array([ True,  True, False, False, False])"
      ]
     },
     "execution_count": 71,
     "metadata": {},
     "output_type": "execute_result"
    }
   ],
   "source": [
    "arr < 3"
   ]
  },
  {
   "cell_type": "code",
   "execution_count": 73,
   "id": "d6a84e55",
   "metadata": {},
   "outputs": [
    {
     "data": {
      "text/plain": [
       "array([ 2,  4,  6,  8, 10])"
      ]
     },
     "execution_count": 73,
     "metadata": {},
     "output_type": "execute_result"
    }
   ],
   "source": [
    "# scaler multeplication (like you have one vector (array) and you multeply it with the scaler)\n",
    "arr * 2"
   ]
  },
  {
   "cell_type": "code",
   "execution_count": 74,
   "id": "ac1307b9",
   "metadata": {},
   "outputs": [
    {
     "data": {
      "text/plain": [
       "array([ 6, 14, 24, 36, 50])"
      ]
     },
     "execution_count": 74,
     "metadata": {},
     "output_type": "execute_result"
    }
   ],
   "source": [
    "# vector multeplication (like you have one vector (array) and you multeply it with the vector)\n",
    "arr * aar"
   ]
  },
  {
   "cell_type": "markdown",
   "id": "e0402286",
   "metadata": {},
   "source": [
    "## - you can also do dot multeplication with it (It has its own builtin function for it)"
   ]
  },
  {
   "cell_type": "code",
   "execution_count": 75,
   "id": "baf774da",
   "metadata": {},
   "outputs": [
    {
     "data": {
      "text/plain": [
       "130"
      ]
     },
     "execution_count": 75,
     "metadata": {},
     "output_type": "execute_result"
    }
   ],
   "source": [
    "arr.dot(aar)"
   ]
  },
  {
   "cell_type": "code",
   "execution_count": 76,
   "id": "be522315",
   "metadata": {},
   "outputs": [
    {
     "data": {
      "text/plain": [
       "array([[0, 1, 2],\n",
       "       [3, 4, 5]])"
      ]
     },
     "execution_count": 76,
     "metadata": {},
     "output_type": "execute_result"
    }
   ],
   "source": [
    "arr1"
   ]
  },
  {
   "cell_type": "code",
   "execution_count": 77,
   "id": "5880a273",
   "metadata": {},
   "outputs": [
    {
     "data": {
      "text/plain": [
       "array([[ 6,  7],\n",
       "       [ 8,  9],\n",
       "       [10, 11]])"
      ]
     },
     "execution_count": 77,
     "metadata": {},
     "output_type": "execute_result"
    }
   ],
   "source": [
    "arr2"
   ]
  },
  {
   "cell_type": "code",
   "execution_count": 78,
   "id": "af04a84c",
   "metadata": {},
   "outputs": [
    {
     "data": {
      "text/plain": [
       "array([[ 28,  31],\n",
       "       [100, 112]])"
      ]
     },
     "execution_count": 78,
     "metadata": {},
     "output_type": "execute_result"
    }
   ],
   "source": [
    "arr1.dot(arr2)"
   ]
  },
  {
   "cell_type": "markdown",
   "id": "b7a45252",
   "metadata": {},
   "source": [
    "## - you can also find sum(),mean() and like that"
   ]
  },
  {
   "cell_type": "code",
   "execution_count": 79,
   "id": "15b07900",
   "metadata": {},
   "outputs": [
    {
     "data": {
      "text/plain": [
       "2.5"
      ]
     },
     "execution_count": 79,
     "metadata": {},
     "output_type": "execute_result"
    }
   ],
   "source": [
    "arr1.mean()"
   ]
  },
  {
   "cell_type": "code",
   "execution_count": 80,
   "id": "396116db",
   "metadata": {
    "scrolled": true
   },
   "outputs": [
    {
     "data": {
      "text/plain": [
       "51"
      ]
     },
     "execution_count": 80,
     "metadata": {},
     "output_type": "execute_result"
    }
   ],
   "source": [
    "arr2.sum()"
   ]
  },
  {
   "cell_type": "markdown",
   "id": "b1cb161b",
   "metadata": {},
   "source": [
    "# - std (standerd daviation)"
   ]
  },
  {
   "cell_type": "code",
   "execution_count": 81,
   "id": "2210cccc",
   "metadata": {},
   "outputs": [
    {
     "data": {
      "text/plain": [
       "1.707825127659933"
      ]
     },
     "execution_count": 81,
     "metadata": {},
     "output_type": "execute_result"
    }
   ],
   "source": [
    "arr2.std()"
   ]
  },
  {
   "cell_type": "markdown",
   "id": "6c8654f7",
   "metadata": {},
   "source": [
    "## - and some of them are in other way"
   ]
  },
  {
   "cell_type": "code",
   "execution_count": 82,
   "id": "aa241c02",
   "metadata": {},
   "outputs": [
    {
     "data": {
      "text/plain": [
       "array([[-0.2794155 ,  0.6569866 ],\n",
       "       [ 0.98935825,  0.41211849],\n",
       "       [-0.54402111, -0.99999021]])"
      ]
     },
     "execution_count": 82,
     "metadata": {},
     "output_type": "execute_result"
    }
   ],
   "source": [
    "np.sin(arr2)"
   ]
  },
  {
   "cell_type": "code",
   "execution_count": 83,
   "id": "b25f6fd9",
   "metadata": {},
   "outputs": [
    {
     "data": {
      "text/plain": [
       "8.5"
      ]
     },
     "execution_count": 83,
     "metadata": {},
     "output_type": "execute_result"
    }
   ],
   "source": [
    "np.average(arr2)"
   ]
  },
  {
   "cell_type": "code",
   "execution_count": 84,
   "id": "ac0c93c3",
   "metadata": {},
   "outputs": [
    {
     "data": {
      "text/plain": [
       "array([[ 1.        ,  0.54030231, -0.41614684],\n",
       "       [-0.9899925 , -0.65364362,  0.28366219]])"
      ]
     },
     "execution_count": 84,
     "metadata": {},
     "output_type": "execute_result"
    }
   ],
   "source": [
    "np.cos(arr1)"
   ]
  },
  {
   "cell_type": "code",
   "execution_count": 85,
   "id": "37395cc6",
   "metadata": {},
   "outputs": [
    {
     "data": {
      "text/plain": [
       "8.5"
      ]
     },
     "execution_count": 85,
     "metadata": {},
     "output_type": "execute_result"
    }
   ],
   "source": [
    "np.median(arr2)"
   ]
  },
  {
   "cell_type": "code",
   "execution_count": 87,
   "id": "c5c3aa41",
   "metadata": {},
   "outputs": [
    {
     "data": {
      "text/plain": [
       "array([[  403.42879349,  1096.63315843],\n",
       "       [ 2980.95798704,  8103.08392758],\n",
       "       [22026.46579481, 59874.1417152 ]])"
      ]
     },
     "execution_count": 87,
     "metadata": {},
     "output_type": "execute_result"
    }
   ],
   "source": [
    "# Exponential\n",
    "np.exp(arr2)"
   ]
  },
  {
   "cell_type": "code",
   "execution_count": null,
   "id": "6ea22503",
   "metadata": {},
   "outputs": [],
   "source": []
  },
  {
   "cell_type": "markdown",
   "id": "0adb7d96",
   "metadata": {},
   "source": [
    "# - Now we have *Reshaping numpy array*\n",
    "## - Ravel\n",
    "## - Reshape\n",
    "## - Transpose\n",
    "## - Stacking\n",
    "## - Splitting"
   ]
  },
  {
   "cell_type": "markdown",
   "id": "007e4ca5",
   "metadata": {},
   "source": [
    "### 1. Ravel: It converts you high dimention array to one dimention array"
   ]
  },
  {
   "cell_type": "code",
   "execution_count": 92,
   "id": "9916aa6e",
   "metadata": {},
   "outputs": [
    {
     "data": {
      "text/plain": [
       "array([[ 6,  7],\n",
       "       [ 8,  9],\n",
       "       [10, 11]])"
      ]
     },
     "execution_count": 92,
     "metadata": {},
     "output_type": "execute_result"
    }
   ],
   "source": [
    "arr2    # arr2 is in 2d"
   ]
  },
  {
   "cell_type": "code",
   "execution_count": 94,
   "id": "fed48a74",
   "metadata": {},
   "outputs": [
    {
     "data": {
      "text/plain": [
       "array([ 6,  7,  8,  9, 10, 11])"
      ]
     },
     "execution_count": 94,
     "metadata": {},
     "output_type": "execute_result"
    }
   ],
   "source": [
    "arr2.ravel()  # now it converts it from 2d to 1d"
   ]
  },
  {
   "cell_type": "code",
   "execution_count": null,
   "id": "d5000831",
   "metadata": {},
   "outputs": [],
   "source": []
  },
  {
   "cell_type": "markdown",
   "id": "b3c8b6b4",
   "metadata": {},
   "source": [
    "### 2. Reshape: you know we can reshape any array with it"
   ]
  },
  {
   "cell_type": "code",
   "execution_count": 106,
   "id": "2fb63208",
   "metadata": {},
   "outputs": [
    {
     "data": {
      "text/plain": [
       "array([[0, 1, 2, 3, 4],\n",
       "       [5, 6, 7, 8, 9]])"
      ]
     },
     "execution_count": 106,
     "metadata": {},
     "output_type": "execute_result"
    }
   ],
   "source": [
    "arr10 = np.arange(10).reshape(2,5)\n",
    "arr10"
   ]
  },
  {
   "cell_type": "code",
   "execution_count": null,
   "id": "ae3032e2",
   "metadata": {},
   "outputs": [],
   "source": []
  },
  {
   "cell_type": "markdown",
   "id": "f1189c6e",
   "metadata": {},
   "source": [
    "### 3. Stacking: It is a trick by which you can combine two arrays"
   ]
  },
  {
   "cell_type": "code",
   "execution_count": 112,
   "id": "93414dad",
   "metadata": {},
   "outputs": [
    {
     "data": {
      "text/plain": [
       "array([1, 2, 3, 4, 5])"
      ]
     },
     "execution_count": 112,
     "metadata": {},
     "output_type": "execute_result"
    }
   ],
   "source": [
    "arr"
   ]
  },
  {
   "cell_type": "code",
   "execution_count": 113,
   "id": "ae26395c",
   "metadata": {},
   "outputs": [
    {
     "data": {
      "text/plain": [
       "array([ 6,  7,  8,  9, 10])"
      ]
     },
     "execution_count": 113,
     "metadata": {},
     "output_type": "execute_result"
    }
   ],
   "source": [
    "aar"
   ]
  },
  {
   "cell_type": "code",
   "execution_count": 127,
   "id": "aa7333fd",
   "metadata": {},
   "outputs": [
    {
     "data": {
      "text/plain": [
       "array([ 1,  2,  3,  4,  5,  6,  7,  8,  9, 10])"
      ]
     },
     "execution_count": 127,
     "metadata": {},
     "output_type": "execute_result"
    }
   ],
   "source": [
    "np.hstack((arr,aar))   # It combined the two arrays. h means horizentally this is horizental"
   ]
  },
  {
   "cell_type": "code",
   "execution_count": 126,
   "id": "d02f5068",
   "metadata": {},
   "outputs": [
    {
     "data": {
      "text/plain": [
       "array([[ 1,  2,  3,  4,  5],\n",
       "       [ 6,  7,  8,  9, 10]])"
      ]
     },
     "execution_count": 126,
     "metadata": {},
     "output_type": "execute_result"
    }
   ],
   "source": [
    "np.vstack((arr,aar))   # It combined the two arrays. v means vertically. See this is a vertical"
   ]
  },
  {
   "cell_type": "markdown",
   "id": "06b71b0a",
   "metadata": {},
   "source": [
    "### 3. Splitting: It is a trick by which you can split two arrays. It is oppsite of stacking"
   ]
  },
  {
   "cell_type": "code",
   "execution_count": 117,
   "id": "0982474a",
   "metadata": {},
   "outputs": [
    {
     "data": {
      "text/plain": [
       "array([[ 6,  7],\n",
       "       [ 8,  9],\n",
       "       [10, 11]])"
      ]
     },
     "execution_count": 117,
     "metadata": {},
     "output_type": "execute_result"
    }
   ],
   "source": [
    "arr2"
   ]
  },
  {
   "cell_type": "code",
   "execution_count": 128,
   "id": "cc62e3dc",
   "metadata": {},
   "outputs": [
    {
     "data": {
      "text/plain": [
       "[array([[ 6],\n",
       "        [ 8],\n",
       "        [10]]),\n",
       " array([[ 7],\n",
       "        [ 9],\n",
       "        [11]])]"
      ]
     },
     "execution_count": 128,
     "metadata": {},
     "output_type": "execute_result"
    }
   ],
   "source": [
    "np.hsplit(arr2,2)  # It converts 1 array to two. h means horizentally split. See it is horizentally"
   ]
  },
  {
   "cell_type": "code",
   "execution_count": 129,
   "id": "b9fc996c",
   "metadata": {},
   "outputs": [
    {
     "data": {
      "text/plain": [
       "[array([[6, 7]]), array([[8, 9]]), array([[10, 11]])]"
      ]
     },
     "execution_count": 129,
     "metadata": {},
     "output_type": "execute_result"
    }
   ],
   "source": [
    "np.vsplit(arr2,3)  # It converts 1 array to 3. v means vertically split and this is vertical"
   ]
  },
  {
   "cell_type": "code",
   "execution_count": null,
   "id": "5a4d5d65",
   "metadata": {},
   "outputs": [],
   "source": []
  },
  {
   "cell_type": "markdown",
   "id": "7a4668dc",
   "metadata": {},
   "source": [
    "# - By indexing you can select rows and columns but that were continues like(from 1st row to 3rd row). *But if you want discontinues rows like (1st row, 3rd row and 5th row) you will use fancy indexing*\n",
    "## - What you have to do you have to pass another list to it and mention the rows in it. also work on columns"
   ]
  },
  {
   "cell_type": "code",
   "execution_count": 5,
   "id": "c8c482de",
   "metadata": {},
   "outputs": [
    {
     "data": {
      "text/plain": [
       "array([[ 0,  1,  2,  3],\n",
       "       [ 4,  5,  6,  7],\n",
       "       [ 8,  9, 10, 11],\n",
       "       [12, 13, 14, 15],\n",
       "       [16, 17, 18, 19],\n",
       "       [20, 21, 22, 23]])"
      ]
     },
     "execution_count": 5,
     "metadata": {},
     "output_type": "execute_result"
    }
   ],
   "source": [
    "arr11 = np.arange(24).reshape(6,4)\n",
    "arr11      # now I want to get row 2,4,6"
   ]
  },
  {
   "cell_type": "code",
   "execution_count": 8,
   "id": "575f19ea",
   "metadata": {},
   "outputs": [
    {
     "data": {
      "text/plain": [
       "array([[ 4,  5,  6,  7],\n",
       "       [12, 13, 14, 15],\n",
       "       [20, 21, 22, 23]])"
      ]
     },
     "execution_count": 8,
     "metadata": {},
     "output_type": "execute_result"
    }
   ],
   "source": [
    "arr11[[1,3,5]]   # index starts from zero. and I just pass another list inside this array to do it"
   ]
  },
  {
   "cell_type": "code",
   "execution_count": 16,
   "id": "da86f70d",
   "metadata": {},
   "outputs": [
    {
     "data": {
      "text/plain": [
       "array([[ 1,  3],\n",
       "       [ 5,  7],\n",
       "       [ 9, 11],\n",
       "       [13, 15],\n",
       "       [17, 19],\n",
       "       [21, 23]])"
      ]
     },
     "execution_count": 16,
     "metadata": {},
     "output_type": "execute_result"
    }
   ],
   "source": [
    "# For columns you have to do it like this\n",
    "arr11[: ,[1,3]]"
   ]
  },
  {
   "cell_type": "markdown",
   "id": "810a52aa",
   "metadata": {},
   "source": [
    "#  - Indexing using booleon array. It is also called filtering somewhere"
   ]
  },
  {
   "cell_type": "code",
   "execution_count": 19,
   "id": "9ca1b625",
   "metadata": {},
   "outputs": [
    {
     "data": {
      "text/plain": [
       "array([[54, 68, 36, 61, 57],\n",
       "       [85, 31, 48, 40, 22],\n",
       "       [14, 42, 23, 78, 23],\n",
       "       [51, 69, 14, 17,  8]])"
      ]
     },
     "execution_count": 19,
     "metadata": {},
     "output_type": "execute_result"
    }
   ],
   "source": [
    "arr12 = np.random.randint(low=1  , high=100 , size=20).reshape(4,5)\n",
    "arr12"
   ]
  },
  {
   "cell_type": "code",
   "execution_count": 20,
   "id": "146fbf3a",
   "metadata": {},
   "outputs": [
    {
     "data": {
      "text/plain": [
       "array([[ True,  True, False,  True,  True],\n",
       "       [ True, False, False, False, False],\n",
       "       [False, False, False,  True, False],\n",
       "       [ True,  True, False, False, False]])"
      ]
     },
     "execution_count": 20,
     "metadata": {},
     "output_type": "execute_result"
    }
   ],
   "source": [
    "arr12>50   # and it is giving me the booleon result true of false"
   ]
  },
  {
   "cell_type": "code",
   "execution_count": 22,
   "id": "1ef2f9f7",
   "metadata": {},
   "outputs": [
    {
     "data": {
      "text/plain": [
       "array([54, 68, 61, 57, 85, 78, 51, 69])"
      ]
     },
     "execution_count": 22,
     "metadata": {},
     "output_type": "execute_result"
    }
   ],
   "source": [
    "arr12[arr12>50]  # I have set this on arr12 again. and it give me the values that are greater then 50"
   ]
  },
  {
   "cell_type": "code",
   "execution_count": 25,
   "id": "1dd554b1",
   "metadata": {},
   "outputs": [
    {
     "data": {
      "text/plain": [
       "array([54, 68, 78])"
      ]
     },
     "execution_count": 25,
     "metadata": {},
     "output_type": "execute_result"
    }
   ],
   "source": [
    "# you can also give it a condetion like give me those values that are greater then 50 as well as even numbers\n",
    "arr12[(arr12>50) & (arr12 % 2 == 0)]  # these are high from 50 as well as even. just like this you can do odd"
   ]
  },
  {
   "cell_type": "code",
   "execution_count": 27,
   "id": "b302f2f1",
   "metadata": {},
   "outputs": [
    {
     "data": {
      "text/plain": [
       "array([61, 57, 85, 51, 69])"
      ]
     },
     "execution_count": 27,
     "metadata": {},
     "output_type": "execute_result"
    }
   ],
   "source": [
    "arr12[(arr12>50) & (arr12 % 2 != 0)]"
   ]
  },
  {
   "cell_type": "markdown",
   "id": "2f3ff2c6",
   "metadata": {},
   "source": [
    "### - You can also change these filtered values with another value "
   ]
  },
  {
   "cell_type": "code",
   "execution_count": 30,
   "id": "9e3a9c68",
   "metadata": {},
   "outputs": [],
   "source": [
    "arr12[(arr12 > 50) & (arr12 % 2 != 0)]=0"
   ]
  },
  {
   "cell_type": "code",
   "execution_count": 32,
   "id": "5b7fdf58",
   "metadata": {},
   "outputs": [
    {
     "data": {
      "text/plain": [
       "array([[54, 68, 36,  0,  0],\n",
       "       [ 0, 31, 48, 40, 22],\n",
       "       [14, 42, 23, 78, 23],\n",
       "       [ 0,  0, 14, 17,  8]])"
      ]
     },
     "execution_count": 32,
     "metadata": {},
     "output_type": "execute_result"
    }
   ],
   "source": [
    "arr12    # and I have changed these values to zero"
   ]
  },
  {
   "cell_type": "code",
   "execution_count": null,
   "id": "8798ddf1",
   "metadata": {},
   "outputs": [],
   "source": []
  },
  {
   "cell_type": "markdown",
   "id": "0d5a366c",
   "metadata": {},
   "source": [
    "# - ploting graphs using numpy\n",
    "## - you have to import a library called matplotlib.pyplot\n",
    "### - and then \"%matlotlib inline\" by this it will be shown in output. otehrwise it will be run but don't show you the output. It is working just like \"getch() in C and C++\""
   ]
  },
  {
   "cell_type": "code",
   "execution_count": 33,
   "id": "4b898c57",
   "metadata": {},
   "outputs": [],
   "source": [
    "import matplotlib.pyplot as plt\n",
    "%matplotlib inline"
   ]
  },
  {
   "cell_type": "code",
   "execution_count": 35,
   "id": "14928ca7",
   "metadata": {
    "scrolled": false
   },
   "outputs": [
    {
     "data": {
      "text/plain": [
       "array([-50.        , -48.98989899, -47.97979798, -46.96969697,\n",
       "       -45.95959596, -44.94949495, -43.93939394, -42.92929293,\n",
       "       -41.91919192, -40.90909091, -39.8989899 , -38.88888889,\n",
       "       -37.87878788, -36.86868687, -35.85858586, -34.84848485,\n",
       "       -33.83838384, -32.82828283, -31.81818182, -30.80808081,\n",
       "       -29.7979798 , -28.78787879, -27.77777778, -26.76767677,\n",
       "       -25.75757576, -24.74747475, -23.73737374, -22.72727273,\n",
       "       -21.71717172, -20.70707071, -19.6969697 , -18.68686869,\n",
       "       -17.67676768, -16.66666667, -15.65656566, -14.64646465,\n",
       "       -13.63636364, -12.62626263, -11.61616162, -10.60606061,\n",
       "        -9.5959596 ,  -8.58585859,  -7.57575758,  -6.56565657,\n",
       "        -5.55555556,  -4.54545455,  -3.53535354,  -2.52525253,\n",
       "        -1.51515152,  -0.50505051,   0.50505051,   1.51515152,\n",
       "         2.52525253,   3.53535354,   4.54545455,   5.55555556,\n",
       "         6.56565657,   7.57575758,   8.58585859,   9.5959596 ,\n",
       "        10.60606061,  11.61616162,  12.62626263,  13.63636364,\n",
       "        14.64646465,  15.65656566,  16.66666667,  17.67676768,\n",
       "        18.68686869,  19.6969697 ,  20.70707071,  21.71717172,\n",
       "        22.72727273,  23.73737374,  24.74747475,  25.75757576,\n",
       "        26.76767677,  27.77777778,  28.78787879,  29.7979798 ,\n",
       "        30.80808081,  31.81818182,  32.82828283,  33.83838384,\n",
       "        34.84848485,  35.85858586,  36.86868687,  37.87878788,\n",
       "        38.88888889,  39.8989899 ,  40.90909091,  41.91919192,\n",
       "        42.92929293,  43.93939394,  44.94949495,  45.95959596,\n",
       "        46.96969697,  47.97979798,  48.98989899,  50.        ])"
      ]
     },
     "execution_count": 35,
     "metadata": {},
     "output_type": "execute_result"
    }
   ],
   "source": [
    "x = np.linspace(-50 , 50 , 100)\n",
    "x"
   ]
  },
  {
   "cell_type": "code",
   "execution_count": 40,
   "id": "5230abdb",
   "metadata": {
    "scrolled": true
   },
   "outputs": [
    {
     "data": {
      "text/plain": [
       "array([ 0.26237485,  0.95674023,  0.75516657, -0.15358256, -0.91850935,\n",
       "       -0.82329839,  0.04289005,  0.86891412,  0.88124388,  0.06833312,\n",
       "       -0.80856816, -0.92828608, -0.17871083,  0.73821811,  0.96384297,\n",
       "        0.28687743, -0.65873438, -0.98747461, -0.3914946 ,  0.57110039,\n",
       "        0.99888863,  0.49126797, -0.4764004 , -0.99794379, -0.58496307,\n",
       "        0.3758061 ,  0.98465178,  0.67142066, -0.2705621 , -0.95917708,\n",
       "       -0.74957103,  0.16197054,  0.92183486,  0.81844725, -0.05137498,\n",
       "       -0.87308714, -0.87719715, -0.05985621,  0.81353706,  0.92509384,\n",
       "        0.17034683, -0.74392141, -0.96154471, -0.27872982,  0.66510151,\n",
       "        0.98609877,  0.38366419, -0.57805259, -0.99845223, -0.48385164,\n",
       "        0.48385164,  0.99845223,  0.57805259, -0.38366419, -0.98609877,\n",
       "       -0.66510151,  0.27872982,  0.96154471,  0.74392141, -0.17034683,\n",
       "       -0.92509384, -0.81353706,  0.05985621,  0.87719715,  0.87308714,\n",
       "        0.05137498, -0.81844725, -0.92183486, -0.16197054,  0.74957103,\n",
       "        0.95917708,  0.2705621 , -0.67142066, -0.98465178, -0.3758061 ,\n",
       "        0.58496307,  0.99794379,  0.4764004 , -0.49126797, -0.99888863,\n",
       "       -0.57110039,  0.3914946 ,  0.98747461,  0.65873438, -0.28687743,\n",
       "       -0.96384297, -0.73821811,  0.17871083,  0.92828608,  0.80856816,\n",
       "       -0.06833312, -0.88124388, -0.86891412, -0.04289005,  0.82329839,\n",
       "        0.91850935,  0.15358256, -0.75516657, -0.95674023, -0.26237485])"
      ]
     },
     "execution_count": 40,
     "metadata": {},
     "output_type": "execute_result"
    }
   ],
   "source": [
    "y = np.sin(x)\n",
    "y"
   ]
  },
  {
   "cell_type": "code",
   "execution_count": 41,
   "id": "c10b7124",
   "metadata": {},
   "outputs": [
    {
     "data": {
      "text/plain": [
       "100"
      ]
     },
     "execution_count": 41,
     "metadata": {},
     "output_type": "execute_result"
    }
   ],
   "source": [
    "y.size"
   ]
  },
  {
   "cell_type": "code",
   "execution_count": 36,
   "id": "b2e80875",
   "metadata": {},
   "outputs": [
    {
     "data": {
      "text/plain": [
       "[<matplotlib.lines.Line2D at 0x1981478ef90>]"
      ]
     },
     "execution_count": 36,
     "metadata": {},
     "output_type": "execute_result"
    },
    {
     "data": {
      "image/png": "[encoded data removed]",
      "text/plain": [
       "<Figure size 640x480 with 1 Axes>"
      ]
     },
     "metadata": {},
     "output_type": "display_data"
    }
   ],
   "source": [
    "plt.plot(x)"
   ]
  },
  {
   "cell_type": "code",
   "execution_count": 42,
   "id": "fec16583",
   "metadata": {},
   "outputs": [
    {
     "data": {
      "text/plain": [
       "[<matplotlib.lines.Line2D at 0x19818294650>]"
      ]
     },
     "execution_count": 42,
     "metadata": {},
     "output_type": "execute_result"
    },
    {
     "data": {
      "image/png": "[encoded data removed]",
      "text/plain": [
       "<Figure size 640x480 with 1 Axes>"
      ]
     },
     "metadata": {},
     "output_type": "display_data"
    }
   ],
   "source": [
    "plt.plot(x,y)"
   ]
  },
  {
   "cell_type": "code",
   "execution_count": 47,
   "id": "73e83d1f",
   "metadata": {
    "scrolled": false
   },
   "outputs": [],
   "source": [
    "y = x*x+2*x+6   # It is a quadratic equation so this will print a perabola"
   ]
  },
  {
   "cell_type": "code",
   "execution_count": 49,
   "id": "adc80140",
   "metadata": {},
   "outputs": [
    {
     "data": {
      "text/plain": [
       "[<matplotlib.lines.Line2D at 0x1981c4f7050>]"
      ]
     },
     "execution_count": 49,
     "metadata": {},
     "output_type": "execute_result"
    },
    {
     "data": {
      "image/png": "[encoded data removed]",
      "text/plain": [
       "<Figure size 640x480 with 1 Axes>"
      ]
     },
     "metadata": {},
     "output_type": "display_data"
    }
   ],
   "source": [
    "plt.plot(x , y)    # It will be a perabola"
   ]
  },
  {
   "cell_type": "code",
   "execution_count": null,
   "id": "1aeb25ae",
   "metadata": {},
   "outputs": [],
   "source": []
  },
  {
   "cell_type": "markdown",
   "id": "c6bc1da7",
   "metadata": {},
   "source": [
    "# - Broadcasting in NumPy\n",
    "## - Broadcasting is a powerful feature in NumPy that allows arithmetic operations on arrays of different shapes. The smaller array is stretched or repeated to match the shape of the larger array, enabling element-wise operations without explicitly creating copies of the data. This significantly improves performance and simplifies code.\n",
    "\n",
    "## - How Broadcasting Works\n",
    "## - Shape Compatibility:\n",
    "\n",
    "### - Arrays must be compatible in shape for broadcasting.\n",
    "### - Starting from the trailing dimensions, dimensions must be equal or one of them must be 1.\n",
    "### - If a dimension is 1, the array is stretched to match the larger dimension.\n",
    "### - Stretching:\n",
    "\n",
    "#### - The smaller array is stretched along dimensions with size 1 to match the shape of the larger array.\n",
    "#### - This is done without actually creating copies of the data, improving efficiency.\n",
    "\n",
    "#### - Key Points\n",
    "##### - Broadcasting is a performance optimization technique.\n",
    "##### - It avoids unnecessary data copying.\n",
    "##### - Understand shape compatibility rules to effectively use broadcasting.\n",
    "##### - Be aware of potential performance implications for large arrays.\n",
    "#### - Common Use Cases\n",
    "##### - Adding or subtracting a constant value to an array.\n",
    "##### - Multiplying or dividing an array by a scalar.\n",
    "##### - Applying element-wise operations between arrays of different shapes.\n",
    "##### - Creating matrices of specific values (e.g., identity matrix)."
   ]
  },
  {
   "cell_type": "code",
   "execution_count": 50,
   "id": "a9f3d3be",
   "metadata": {},
   "outputs": [],
   "source": [
    "arr13 = np.arange(9).reshape(3,3)\n",
    "arr14 = np.arange(3).reshape(3)"
   ]
  },
  {
   "cell_type": "code",
   "execution_count": 52,
   "id": "1173e0e8",
   "metadata": {},
   "outputs": [
    {
     "data": {
      "text/plain": [
       "array([[ 0,  2,  4],\n",
       "       [ 3,  5,  7],\n",
       "       [ 6,  8, 10]])"
      ]
     },
     "execution_count": 52,
     "metadata": {},
     "output_type": "execute_result"
    }
   ],
   "source": [
    "arr13 + arr14"
   ]
  },
  {
   "cell_type": "code",
   "execution_count": 54,
   "id": "5a1e257a",
   "metadata": {},
   "outputs": [
    {
     "data": {
      "text/plain": [
       "array([[ 8, 10, 12, 14],\n",
       "       [16, 18, 20, 22]])"
      ]
     },
     "execution_count": 54,
     "metadata": {},
     "output_type": "execute_result"
    }
   ],
   "source": [
    "# if x=m and y=n, operation will take place\n",
    "a = np.arange(8).reshape(2,4)\n",
    "b = np.arange(8,16).reshape(2,4)\n",
    "\n",
    "a+b"
   ]
  },
  {
   "cell_type": "code",
   "execution_count": 55,
   "id": "77d8a902",
   "metadata": {},
   "outputs": [
    {
     "data": {
      "text/plain": [
       "array([[ 0,  2,  4,  6],\n",
       "       [ 4,  6,  8, 10],\n",
       "       [ 8, 10, 12, 14]])"
      ]
     },
     "execution_count": 55,
     "metadata": {},
     "output_type": "execute_result"
    }
   ],
   "source": [
    "# if x=1 and y=n, then also operation will take place (same dimention)\n",
    "\n",
    "c = np.arange(4).reshape(1,4)\n",
    "d = np.arange(12).reshape(3,4)\n",
    "\n",
    "c+d"
   ]
  },
  {
   "cell_type": "code",
   "execution_count": 57,
   "id": "601d7798",
   "metadata": {},
   "outputs": [
    {
     "ename": "ValueError",
     "evalue": "operands could not be broadcast together with shapes (1,3) (4,4) ",
     "output_type": "error",
     "traceback": [
      "\u001b[1;31m---------------------------------------------------------------------------\u001b[0m",
      "\u001b[1;31mValueError\u001b[0m                                Traceback (most recent call last)",
      "Cell \u001b[1;32mIn[57], line 6\u001b[0m\n\u001b[0;32m      3\u001b[0m e \u001b[38;5;241m=\u001b[39m np\u001b[38;5;241m.\u001b[39marange(\u001b[38;5;241m3\u001b[39m)\u001b[38;5;241m.\u001b[39mreshape(\u001b[38;5;241m1\u001b[39m,\u001b[38;5;241m3\u001b[39m)\n\u001b[0;32m      4\u001b[0m f \u001b[38;5;241m=\u001b[39m np\u001b[38;5;241m.\u001b[39marange(\u001b[38;5;241m16\u001b[39m)\u001b[38;5;241m.\u001b[39mreshape(\u001b[38;5;241m4\u001b[39m,\u001b[38;5;241m4\u001b[39m)\n\u001b[1;32m----> 6\u001b[0m e\u001b[38;5;241m+\u001b[39mf\n",
      "\u001b[1;31mValueError\u001b[0m: operands could not be broadcast together with shapes (1,3) (4,4) "
     ]
    }
   ],
   "source": [
    "# if x=1 and y!=n, then it will also take place. just like it \"operands could not be broadcast together with shapes (1,3) (4,4) \"\n",
    "\n",
    "e = np.arange(3).reshape(1,3)\n",
    "f = np.arange(16).reshape(4,4)\n",
    "\n",
    "e+f"
   ]
  },
  {
   "cell_type": "code",
   "execution_count": 58,
   "id": "45efdd48",
   "metadata": {},
   "outputs": [
    {
     "data": {
      "text/plain": [
       "array([[3, 4, 5],\n",
       "       [4, 5, 6],\n",
       "       [5, 6, 7]])"
      ]
     },
     "execution_count": 58,
     "metadata": {},
     "output_type": "execute_result"
    }
   ],
   "source": [
    "# if x=1 and y=1 then y==m operation will take place\n",
    "\n",
    "g = np.arange(3).reshape(1,3)\n",
    "h = np.arange(3,6).reshape(3,1)\n",
    "\n",
    "g+h"
   ]
  },
  {
   "cell_type": "code",
   "execution_count": 59,
   "id": "ac7ead72",
   "metadata": {},
   "outputs": [
    {
     "data": {
      "text/plain": [
       "array([[ 0,  2,  4,  6],\n",
       "       [ 4,  6,  8, 10],\n",
       "       [ 8, 10, 12, 14]])"
      ]
     },
     "execution_count": 59,
     "metadata": {},
     "output_type": "execute_result"
    }
   ],
   "source": [
    "# if x=1 and x=m, then it will also take place even if they are not in same dimention\n",
    "\n",
    "i = np.arange(4).reshape(1,4)\n",
    "j = np.arange(12).reshape(3,4)\n",
    "\n",
    "i+j"
   ]
  },
  {
   "cell_type": "code",
   "execution_count": 60,
   "id": "64dda1a5",
   "metadata": {},
   "outputs": [
    {
     "data": {
      "text/plain": [
       "array([[ 0,  1,  2,  3,  4],\n",
       "       [ 5,  6,  7,  8,  9],\n",
       "       [10, 11, 12, 13, 14],\n",
       "       [15, 16, 17, 18, 19]])"
      ]
     },
     "execution_count": 60,
     "metadata": {},
     "output_type": "execute_result"
    }
   ],
   "source": [
    "# if x=1 and y=1 the the operation will take place no matter what\n",
    "\n",
    "k = np.arange(1).reshape(1,1)\n",
    "l = np.arange(20).reshape(4,5)\n",
    "\n",
    "k+l"
   ]
  },
  {
   "cell_type": "code",
   "execution_count": 63,
   "id": "cfb350d8",
   "metadata": {
    "scrolled": true
   },
   "outputs": [
    {
     "data": {
      "text/plain": [
       "array([[ 0,  2,  4,  6],\n",
       "       [ 4,  6,  8, 10],\n",
       "       [ 8, 10, 12, 14],\n",
       "       [12, 14, 16, 18],\n",
       "       [16, 18, 20, 22]])"
      ]
     },
     "execution_count": 63,
     "metadata": {},
     "output_type": "execute_result"
    }
   ],
   "source": [
    "# if they are in differint dimention\n",
    "\n",
    "m = np.arange(4)\n",
    "n = np.arange(20).reshape(5,4)\n",
    "\n",
    "m+n"
   ]
  },
  {
   "cell_type": "code",
   "execution_count": null,
   "id": "13a1a41d",
   "metadata": {},
   "outputs": [],
   "source": []
  },
  {
   "cell_type": "code",
   "execution_count": null,
   "id": "cfdd2960",
   "metadata": {},
   "outputs": [],
   "source": []
  },
  {
   "cell_type": "code",
   "execution_count": null,
   "id": "be175ca8",
   "metadata": {},
   "outputs": [],
   "source": []
  },
  {
   "cell_type": "code",
   "execution_count": null,
   "id": "609fde20",
   "metadata": {},
   "outputs": [],
   "source": []
  },
  {
   "cell_type": "code",
   "execution_count": null,
   "id": "6ba976c6",
   "metadata": {},
   "outputs": [],
   "source": []
  },
  {
   "cell_type": "code",
   "execution_count": null,
   "id": "295f65d2",
   "metadata": {},
   "outputs": [],
   "source": []
  },
  {
   "cell_type": "code",
   "execution_count": null,
   "id": "d9df4087",
   "metadata": {},
   "outputs": [],
   "source": []
  },
  {
   "cell_type": "code",
   "execution_count": null,
   "id": "5e377322",
   "metadata": {},
   "outputs": [],
   "source": []
  }
 ],
 "metadata": {
  "kernelspec": {
   "display_name": "Python 3 (ipykernel)",
   "language": "python",
   "name": "python3"
  },
  "language_info": {
   "codemirror_mode": {
    "name": "ipython",
    "version": 3
   },
   "file_extension": ".py",
   "mimetype": "text/x-python",
   "name": "python",
   "nbconvert_exporter": "python",
   "pygments_lexer": "ipython3",
   "version": "3.11.5"
  }
 },
 "nbformat": 4,
 "nbformat_minor": 5
}
